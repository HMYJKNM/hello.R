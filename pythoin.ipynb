{
 "cells": [
  {
   "cell_type": "markdown",
   "id": "4e87b8ee",
   "metadata": {},
   "source": [
    "##Listdata type\n",
    "* stat and end with []\n",
    "* valus (item) \"store any dara type\"\n",
    "* seperator between two items ,\n",
    "* INDEXING\n",
    "         * POSITIVE INDEXING LEFT TO RIGHT ALWAYS START WITH \" ZERO\"\n",
    "         * NEGATIVE INDEXING RIGHT TO LEFT ALWAYS START WITH \" -1\"\n",
    "         \n",
    "* extract value forn list with index valu \" variable name [inden number]\" \n",
    " ## slicing\n",
    " * \"variable [start:end:step]\" all parameters are numbers\n",
    "    * \"start\" include\n",
    "    * \"end\" exclude (end -1)\n",
    "    * \"step \" sequence ( --> 1) increase 1 by one from starting \n",
    "         "
   ]
  },
  {
   "cell_type": "code",
   "execution_count": 1,
   "id": "fe19f2fc",
   "metadata": {},
   "outputs": [],
   "source": [
    "stdf1 = 1\n",
    "stdname1 = 'ali'\n",
    "stdname1 = 'hamza'\n",
    "\n",
    "stdf2 = 2\n",
    "stdname2 = 'kashif'\n",
    "stdname2 = 'asif'"
   ]
  },
  {
   "cell_type": "code",
   "execution_count": 8,
   "id": "0c569731",
   "metadata": {},
   "outputs": [],
   "source": [
    "#+INDEX   0           1     2        3    4   5    6\n",
    "name = ['asif', 'kashif','hamza', 1000,2000,3000,True]\n",
    "# -index -7       -6       -5      -4   -3   -2   -1\n"
   ]
  },
  {
   "cell_type": "code",
   "execution_count": 13,
   "id": "8dd3f97c",
   "metadata": {},
   "outputs": [
    {
     "name": "stdout",
     "output_type": "stream",
     "text": [
      "hamza\n",
      "hamza\n",
      "2000 -3\n",
      "2000\n"
     ]
    }
   ],
   "source": [
    "print(name[2])\n",
    "print(name[-5])\n",
    "print(name[4],-3)\n",
    "print(name[-3])"
   ]
  },
  {
   "cell_type": "markdown",
   "id": "ef11d946",
   "metadata": {},
   "source": [
    " #old programming code style for printing all arry valus"
   ]
  },
  {
   "cell_type": "code",
   "execution_count": 19,
   "id": "c07a1d4e",
   "metadata": {},
   "outputs": [
    {
     "name": "stdout",
     "output_type": "stream",
     "text": [
      "asif\n",
      "kashif\n",
      "hamza\n",
      "1000\n",
      "2000\n",
      "3000\n",
      "True\n"
     ]
    }
   ],
   "source": [
    "name = ['asif', 'kashif','hamza', 1000,2000,3000,True]\n",
    "counter = 0\n",
    "while counter < len(name):\n",
    "    print(name[counter])\n",
    "    counter = 1+counter"
   ]
  },
  {
   "cell_type": "code",
   "execution_count": 21,
   "id": "57fbbc60",
   "metadata": {},
   "outputs": [
    {
     "name": "stdout",
     "output_type": "stream",
     "text": [
      "asif\n",
      "kashif\n",
      "hamza\n",
      "1000\n",
      "2000\n",
      "3000\n",
      "True\n"
     ]
    }
   ],
   "source": [
    "name = ['asif', 'kashif','hamza', 1000,2000,3000,True]\n",
    "for name in name:\n",
    "    print(name)"
   ]
  },
  {
   "cell_type": "code",
   "execution_count": 25,
   "id": "203e43fc",
   "metadata": {},
   "outputs": [
    {
     "name": "stdout",
     "output_type": "stream",
     "text": [
      "kashif\n",
      "hamza\n",
      "1000\n",
      "2000\n"
     ]
    }
   ],
   "source": [
    "name = ['asif', 'kashif','hamza', 1000,2000,3000,True]\n",
    "counter = 1\n",
    "while counter <  5:\n",
    "    print(name[counter])\n",
    "    counter += 1"
   ]
  },
  {
   "cell_type": "code",
   "execution_count": 26,
   "id": "39c338fa",
   "metadata": {},
   "outputs": [
    {
     "name": "stdout",
     "output_type": "stream",
     "text": [
      "asif\n",
      "kashif\n",
      "hamza\n",
      "1000\n",
      "2000\n"
     ]
    }
   ],
   "source": [
    "name = ['asif', 'kashif','hamza', 1000,2000,3000,True]\n",
    "counter = 0\n",
    "while counter < 5:\n",
    "    print(name[counter])\n",
    "    counter = 1+counter"
   ]
  },
  {
   "cell_type": "markdown",
   "id": "8a64a3ff",
   "metadata": {},
   "source": [
    "  ## slicing"
   ]
  },
  {
   "cell_type": "code",
   "execution_count": 28,
   "id": "137b6c3b",
   "metadata": {},
   "outputs": [
    {
     "name": "stdout",
     "output_type": "stream",
     "text": [
      "['kashif', 'hamza', 1000, 2000, 3000]\n",
      "['kashif', 'hamza', 1000, 2000, 3000]\n"
     ]
    }
   ],
   "source": [
    "#+INDEX   0           1     2        3    4   5    6\n",
    "name = ['asif', 'kashif','hamza', 1000,2000,3000,True]\n",
    "# -index -7       -6       -5      -4   -3   -2   -1\n",
    "print(name[1:6])\n",
    "print(name[1:6:1])"
   ]
  },
  {
   "cell_type": "code",
   "execution_count": 33,
   "id": "3a654db6",
   "metadata": {},
   "outputs": [
    {
     "name": "stdout",
     "output_type": "stream",
     "text": [
      "['asif', 'kashif', 'hamza', 1000, 2000, 3000, True]\n",
      "['asif', 'hamza', 2000, True]\n",
      "['asif', 1000, True]\n",
      "[True, 3000, 2000, 1000, 'hamza', 'kashif', 'asif']\n"
     ]
    }
   ],
   "source": [
    "#+INDEX   0           1     2        3    4   5    6\n",
    "name = ['asif', 'kashif','hamza', 1000,2000,3000,True]\n",
    "# -index -7       -6       -5      -4   -3   -2   -1\n",
    "print(name[::1])\n",
    "print(name[::2])\n",
    "print(name[::3])\n",
    "print(name[::-1])"
   ]
  },
  {
   "cell_type": "code",
   "execution_count": 39,
   "id": "fd4fa87e",
   "metadata": {},
   "outputs": [
    {
     "name": "stdout",
     "output_type": "stream",
     "text": [
      "[]\n",
      "[2000, 1000, 'hamza', 'kashif']\n",
      "['asif', 'kashif', 'hamza', 1000]\n",
      "[3000, 2000, 1000, 'hamza', 'kashif']\n",
      "[3000, 2000, 1000, 'hamza', 'kashif']\n"
     ]
    }
   ],
   "source": [
    "#+INDEX   0           1     2        3    4   5    6\n",
    "name = ['asif', 'kashif','hamza', 1000,2000,3000,True]\n",
    "# -index -7       -6       -5      -4   -3   -2   -1\n",
    "print(name[4:-7])\n",
    "print(name[4:-7:-1])\n",
    "print(name[-7:4])\n",
    "print(name[5:-7:-1])\n",
    "print(name[5:0:-1])"
   ]
  },
  {
   "cell_type": "code",
   "execution_count": 43,
   "id": "213d13a9",
   "metadata": {},
   "outputs": [
    {
     "name": "stdout",
     "output_type": "stream",
     "text": [
      "[2000, 3000, True]\n",
      "['asif', 'kashif', 'hamza']\n",
      "['asif', 'kashif', 'hamza']\n",
      "['asif', 'kashif', 'hamza']\n"
     ]
    }
   ],
   "source": [
    "#+INDEX   0           1     2        3    4   5    6\n",
    "name = ['asif', 'kashif','hamza', 1000,2000,3000,True]\n",
    "# -index -7       -6       -5      -4   -3   -2   -1\n",
    "print(name[-3:])\n",
    "print(name[:3])\n",
    "print(name[0:3])\n",
    "print(name[0:3:1])"
   ]
  },
  {
   "cell_type": "markdown",
   "id": "f2f7edd8",
   "metadata": {},
   "source": [
    " ##allying operatpors on list data type"
   ]
  },
  {
   "cell_type": "code",
   "execution_count": 44,
   "id": "9cd58726",
   "metadata": {},
   "outputs": [
    {
     "data": {
      "text/plain": [
       "['pakistan', 1000, 2000, 'abc', 'xyz']"
      ]
     },
     "execution_count": 44,
     "metadata": {},
     "output_type": "execute_result"
    }
   ],
   "source": [
    "l1 = [\"pakistan\",1000,2000]\n",
    "l2 = ['abc',\"xyz\"]\n",
    "l1 + l2"
   ]
  },
  {
   "cell_type": "code",
   "execution_count": 45,
   "id": "6c0acf62",
   "metadata": {},
   "outputs": [
    {
     "data": {
      "text/plain": [
       "['pakistan', 1000, 2000, 'pakistan', 1000, 2000, 'pakistan', 1000, 2000]"
      ]
     },
     "execution_count": 45,
     "metadata": {},
     "output_type": "execute_result"
    }
   ],
   "source": [
    "l1 *3"
   ]
  },
  {
   "cell_type": "markdown",
   "id": "83d8a099",
   "metadata": {},
   "source": [
    "## list data type method"
   ]
  },
  {
   "cell_type": "code",
   "execution_count": 46,
   "id": "6afbf26e",
   "metadata": {},
   "outputs": [
    {
     "data": {
      "text/plain": [
       "['__add__',\n",
       " '__class__',\n",
       " '__class_getitem__',\n",
       " '__contains__',\n",
       " '__delattr__',\n",
       " '__delitem__',\n",
       " '__dir__',\n",
       " '__doc__',\n",
       " '__eq__',\n",
       " '__format__',\n",
       " '__ge__',\n",
       " '__getattribute__',\n",
       " '__getitem__',\n",
       " '__gt__',\n",
       " '__hash__',\n",
       " '__iadd__',\n",
       " '__imul__',\n",
       " '__init__',\n",
       " '__init_subclass__',\n",
       " '__iter__',\n",
       " '__le__',\n",
       " '__len__',\n",
       " '__lt__',\n",
       " '__mul__',\n",
       " '__ne__',\n",
       " '__new__',\n",
       " '__reduce__',\n",
       " '__reduce_ex__',\n",
       " '__repr__',\n",
       " '__reversed__',\n",
       " '__rmul__',\n",
       " '__setattr__',\n",
       " '__setitem__',\n",
       " '__sizeof__',\n",
       " '__str__',\n",
       " '__subclasshook__',\n",
       " 'append',\n",
       " 'clear',\n",
       " 'copy',\n",
       " 'count',\n",
       " 'extend',\n",
       " 'index',\n",
       " 'insert',\n",
       " 'pop',\n",
       " 'remove',\n",
       " 'reverse',\n",
       " 'sort']"
      ]
     },
     "execution_count": 46,
     "metadata": {},
     "output_type": "execute_result"
    }
   ],
   "source": [
    "dir(list)"
   ]
  },
  {
   "cell_type": "markdown",
   "id": "41058fc9",
   "metadata": {},
   "source": [
    "## list data type method\n",
    "[i for i in dir(list) if \"__\"not in i]"
   ]
  },
  {
   "cell_type": "code",
   "execution_count": 48,
   "id": "77f80b2b",
   "metadata": {},
   "outputs": [
    {
     "data": {
      "text/plain": [
       "['append',\n",
       " 'clear',\n",
       " 'copy',\n",
       " 'count',\n",
       " 'extend',\n",
       " 'index',\n",
       " 'insert',\n",
       " 'pop',\n",
       " 'remove',\n",
       " 'reverse',\n",
       " 'sort']"
      ]
     },
     "execution_count": 48,
     "metadata": {},
     "output_type": "execute_result"
    }
   ],
   "source": [
    "[i for i in dir(list) if \"__\"not in i]"
   ]
  },
  {
   "cell_type": "code",
   "execution_count": 51,
   "id": "a57e5efe",
   "metadata": {},
   "outputs": [
    {
     "name": "stdout",
     "output_type": "stream",
     "text": [
      "['asif', 'hamza', 'khasif', [1, 2, 3]]\n"
     ]
    }
   ],
   "source": [
    "name = []\n",
    "name.append(\"asif\")\n",
    "name.append(\"hamza\")\n",
    "name.append(\"khasif\")\n",
    "name.append([1,2,3])\n",
    "print(name)"
   ]
  },
  {
   "cell_type": "code",
   "execution_count": 61,
   "id": "473e3a4c",
   "metadata": {},
   "outputs": [
    {
     "name": "stdout",
     "output_type": "stream",
     "text": [
      "['pakistan', 1000, 2000]\n",
      "[]\n"
     ]
    }
   ],
   "source": [
    "l1 = [\"pakistan\",1000,2000]\n",
    "\n",
    "print(l1)\n",
    "l1.clear()\n",
    "print(l1)"
   ]
  },
  {
   "cell_type": "code",
   "execution_count": 64,
   "id": "9a72bbdb",
   "metadata": {},
   "outputs": [
    {
     "name": "stdout",
     "output_type": "stream",
     "text": [
      "['abc', 'xyz']\n",
      "['abc', 'xyz']\n"
     ]
    }
   ],
   "source": [
    "l1 = [\"pakistan\",1000,2000]\n",
    "l1 = l2\n",
    "print(l1)\n",
    "print(l2)"
   ]
  },
  {
   "cell_type": "code",
   "execution_count": 65,
   "id": "dfc547b5",
   "metadata": {},
   "outputs": [
    {
     "name": "stdout",
     "output_type": "stream",
     "text": [
      "['pakistan', 1000, 2000, 0]\n"
     ]
    }
   ],
   "source": [
    "l1 = [\"pakistan\",1000,2000]\n",
    "l2 = l1\n",
    "l2.append(0)\n",
    "print(l2)"
   ]
  },
  {
   "cell_type": "code",
   "execution_count": 69,
   "id": "c2096a95",
   "metadata": {},
   "outputs": [
    {
     "name": "stdout",
     "output_type": "stream",
     "text": [
      "['pakistan', 1000, 2000]\n",
      "['pakistan', 0, 2000]\n"
     ]
    }
   ],
   "source": [
    "l1 = [\"pakistan\",1000,2000]\n",
    "l2 = l1.copy()\n",
    "l2[1] =(0)\n",
    "print(l1)\n",
    "print(l2)"
   ]
  },
  {
   "cell_type": "code",
   "execution_count": 76,
   "id": "25676f5c",
   "metadata": {},
   "outputs": [
    {
     "name": "stdout",
     "output_type": "stream",
     "text": [
      "['a', 'b', 'c', 'a', 'x']\n"
     ]
    }
   ],
   "source": [
    "l1 = ['a', 'b','c','a','x']\n",
    "l1.count('a')\n",
    "print(l1)"
   ]
  },
  {
   "cell_type": "code",
   "execution_count": 73,
   "id": "f62c1dc6",
   "metadata": {},
   "outputs": [
    {
     "name": "stdout",
     "output_type": "stream",
     "text": [
      "['asif', 'hamza', 'khasif', [1, 2, 3]]\n",
      "['asif', 'hamza', 'khasif', 1, 2, 3]\n"
     ]
    }
   ],
   "source": [
    "name = []\n",
    "name.append(\"asif\")\n",
    "name.append(\"hamza\")\n",
    "name.append(\"khasif\")\n",
    "name.append([1,2,3])\n",
    "print(name)\n",
    "\n",
    "name = []\n",
    "name.append(\"asif\")\n",
    "name.append(\"hamza\")\n",
    "name.append(\"khasif\")\n",
    "name.extend([1,2,3])\n",
    "print(name)"
   ]
  },
  {
   "cell_type": "code",
   "execution_count": 78,
   "id": "1ae68391",
   "metadata": {},
   "outputs": [
    {
     "name": "stdout",
     "output_type": "stream",
     "text": [
      "0\n",
      "3\n"
     ]
    }
   ],
   "source": [
    "l1 = ['a', 'b','c','a','x']\n",
    "l1.index('x')\n",
    "print(l1.index('a'))\n",
    "print(l1.index('a',1))\n"
   ]
  },
  {
   "cell_type": "markdown",
   "id": "b6320f85",
   "metadata": {},
   "source": [
    "## `insert\n"
   ]
  },
  {
   "cell_type": "code",
   "execution_count": 79,
   "id": "3bea4b65",
   "metadata": {},
   "outputs": [
    {
     "name": "stdout",
     "output_type": "stream",
     "text": [
      "['a', 'pakistan', 'b', 'c', 'a', 'x']\n"
     ]
    }
   ],
   "source": [
    "l1 = ['a', 'b','c','a','x']\n",
    "l1.insert(1,'pakistan')\n",
    "print(l1)"
   ]
  },
  {
   "cell_type": "code",
   "execution_count": 88,
   "id": "6de86e16",
   "metadata": {},
   "outputs": [
    {
     "name": "stdout",
     "output_type": "stream",
     "text": [
      "['a', 'b', 'c', 'a', 'x']\n",
      "['a', 'b', 'c', 'a']\n",
      "['a', 'c', 'a']\n",
      "['a', 'a']\n",
      "['a']\n",
      "[]\n"
     ]
    }
   ],
   "source": [
    "l1 = ['a', 'b','c','a','x']\n",
    "print(l1)\n",
    "l1.pop()\n",
    "print(l1)\n",
    "l1.pop(1)\n",
    "print(l1)\n",
    "l1.pop(1)\n",
    "print(l1)\n",
    "l1.pop()\n",
    "print(l1)\n",
    "l1.pop()\n",
    "print(l1)\n"
   ]
  },
  {
   "cell_type": "code",
   "execution_count": 92,
   "id": "55fc957f",
   "metadata": {},
   "outputs": [
    {
     "name": "stdout",
     "output_type": "stream",
     "text": [
      "['a', 'b', 'c', 'a', 'x']\n",
      "['a', 'b', 'c', 'a']\n",
      "['a', 'c', 'a']\n",
      "['a', 'a']\n",
      "['a']\n",
      "[]\n",
      "['x', 'b', 'c', 'a', 'a']\n",
      "completed list ['x', 'b', 'c', 'a', 'a']\n"
     ]
    }
   ],
   "source": [
    "l1 = ['a', 'b','c','a','x']\n",
    "l2 = []\n",
    "print(l1)\n",
    "l2.append(l1.pop())\n",
    "print(l1)\n",
    "l2.append(l1.pop(1))\n",
    "print(l1)\n",
    "l2.append(l1.pop(1))\n",
    "print(l1)\n",
    "l2.append(l1.pop())\n",
    "print(l1)\n",
    "l2.append(l1.pop())\n",
    "print(l1)\n",
    "print(l2)\n",
    "print('completed list',l2)"
   ]
  },
  {
   "cell_type": "code",
   "execution_count": 93,
   "id": "d1cf72e9",
   "metadata": {},
   "outputs": [
    {
     "name": "stdout",
     "output_type": "stream",
     "text": [
      "['a', 'a', 'b', 'c', 'x']\n"
     ]
    }
   ],
   "source": [
    "l1 = ['a', 'b','c','a','x']\n",
    "l1.sort()\n",
    "print(l1)"
   ]
  },
  {
   "cell_type": "code",
   "execution_count": 94,
   "id": "7f32e332",
   "metadata": {},
   "outputs": [
    {
     "name": "stdout",
     "output_type": "stream",
     "text": [
      "['x', 'a', 'c', 'b', 'a']\n"
     ]
    }
   ],
   "source": [
    "l1 = ['a', 'b','c','a','x']\n",
    "l1.reverse()\n",
    "print(l1)"
   ]
  },
  {
   "cell_type": "code",
   "execution_count": 96,
   "id": "0cd28b66",
   "metadata": {},
   "outputs": [
    {
     "name": "stdout",
     "output_type": "stream",
     "text": [
      "['x', 'c', 'b', 'a', 'a']\n"
     ]
    }
   ],
   "source": [
    "l1 = ['a', 'b','c','a','x']\n",
    "l1.sort()\n",
    "l1.reverse()\n",
    "print(l1)"
   ]
  },
  {
   "cell_type": "code",
   "execution_count": 98,
   "id": "b486f355",
   "metadata": {},
   "outputs": [
    {
     "name": "stdout",
     "output_type": "stream",
     "text": [
      "['x', 'c', 'b', 'a', 'a']\n"
     ]
    }
   ],
   "source": [
    "l1 = ['a', 'b','c','a','x']\n",
    "l1.sort(reverse = True)\n",
    "print(l1)"
   ]
  },
  {
   "cell_type": "markdown",
   "id": "7832cab1",
   "metadata": {},
   "source": [
    "## remove value from list search string"
   ]
  },
  {
   "cell_type": "code",
   "execution_count": null,
   "id": "c6aa2957",
   "metadata": {},
   "outputs": [],
   "source": [
    "l1 = ['a', 'b','c','a','x']\n",
    "removeitem = input(\"enteritem:\")indx = l1.index(removeitem)\n",
    "print(removeitem,type(removeitem))\n",
    "print(index,type(index))\n",
    "l1.pop()\n",
    "print(l1)\n"
   ]
  },
  {
   "cell_type": "code",
   "execution_count": null,
   "id": "6ba876fd",
   "metadata": {},
   "outputs": [],
   "source": [
    "l1 = ['a', 'b','c','a','x']\n",
    "a = input(\"enter the index number : \")\n",
    "print(a,type(a))\n",
    "l1.pop(a)\n",
    "print(l1)"
   ]
  },
  {
   "cell_type": "code",
   "execution_count": null,
   "id": "30dc2680",
   "metadata": {},
   "outputs": [],
   "source": [
    "l1 = ['a', 'b','c','a','x']\n",
    "removeitem = input(\"enteritem:\")\n",
    "l1.remove(removeitem)\n",
    "print(l1)\n"
   ]
  },
  {
   "cell_type": "code",
   "execution_count": null,
   "id": "505a5738",
   "metadata": {},
   "outputs": [],
   "source": [
    "l1 = ['a', 'b','c','a','x']\n",
    "removeitem = input(\"enteritem: \")\n",
    "for in in range (l1.count(removeitem))\n",
    "a =l1.count(removeitem)\n",
    "print(a)\n",
    "print(l1)"
   ]
  },
  {
   "cell_type": "code",
   "execution_count": null,
   "id": "8ea6b6ec",
   "metadata": {},
   "outputs": [],
   "source": []
  }
 ],
 "metadata": {
  "kernelspec": {
   "display_name": "Python 3 (ipykernel)",
   "language": "python",
   "name": "python3"
  },
  "language_info": {
   "codemirror_mode": {
    "name": "ipython",
    "version": 3
   },
   "file_extension": ".py",
   "mimetype": "text/x-python",
   "name": "python",
   "nbconvert_exporter": "python",
   "pygments_lexer": "ipython3",
   "version": "3.9.13"
  }
 },
 "nbformat": 4,
 "nbformat_minor": 5
}
