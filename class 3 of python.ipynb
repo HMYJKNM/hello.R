{
 "cells": [
  {
   "cell_type": "code",
   "execution_count": null,
   "id": "57a5fbd2",
   "metadata": {},
   "outputs": [],
   "source": [
    "len()"
   ]
  },
  {
   "cell_type": "code",
   "execution_count": null,
   "id": "fdf44206",
   "metadata": {},
   "outputs": [],
   "source": [
    "len?"
   ]
  },
  {
   "cell_type": "code",
   "execution_count": null,
   "id": "f5f098da",
   "metadata": {},
   "outputs": [],
   "source": [
    "print('1','2')"
   ]
  },
  {
   "cell_type": "code",
   "execution_count": null,
   "id": "2a530598",
   "metadata": {},
   "outputs": [],
   "source": [
    "print"
   ]
  },
  {
   "cell_type": "code",
   "execution_count": null,
   "id": "99c957ed",
   "metadata": {},
   "outputs": [],
   "source": [
    "print('a','b', sep=\"&\",end='n')"
   ]
  },
  {
   "cell_type": "code",
   "execution_count": null,
   "id": "329a3e0f",
   "metadata": {},
   "outputs": [],
   "source": [
    "print?\n"
   ]
  },
  {
   "cell_type": "code",
   "execution_count": null,
   "id": "3d7866dc",
   "metadata": {},
   "outputs": [],
   "source": [
    "name = \"ahmed\"\n",
    "age = 12"
   ]
  },
  {
   "cell_type": "code",
   "execution_count": null,
   "id": "4a64f5f5",
   "metadata": {},
   "outputs": [],
   "source": [
    "name = \"ahmed\"\n",
    "age = 12\n",
    "a=('welcome sir', name,  )\n",
    "print(a)"
   ]
  },
  {
   "cell_type": "code",
   "execution_count": null,
   "id": "b01f078a",
   "metadata": {},
   "outputs": [],
   "source": []
  },
  {
   "cell_type": "code",
   "execution_count": null,
   "id": "a804e711",
   "metadata": {},
   "outputs": [],
   "source": [
    "a=('welcome sir')\n",
    "print(a)"
   ]
  },
  {
   "cell_type": "code",
   "execution_count": null,
   "id": "88f2a462",
   "metadata": {},
   "outputs": [],
   "source": [
    "()"
   ]
  },
  {
   "cell_type": "code",
   "execution_count": null,
   "id": "7c9b21e0",
   "metadata": {},
   "outputs": [],
   "source": [
    "print()"
   ]
  },
  {
   "cell_type": "code",
   "execution_count": null,
   "id": "ba18acb1",
   "metadata": {},
   "outputs": [],
   "source": [
    "a=1\n",
    "print(a)"
   ]
  },
  {
   "cell_type": "code",
   "execution_count": 3,
   "id": "171623bd",
   "metadata": {},
   "outputs": [
    {
     "name": "stdout",
     "output_type": "stream",
     "text": [
      "a b\n"
     ]
    }
   ],
   "source": [
    "name= \"b\"\n",
    "print(\"a\",name ,\"\")"
   ]
  },
  {
   "cell_type": "code",
   "execution_count": 5,
   "id": "02325a97",
   "metadata": {},
   "outputs": [
    {
     "name": "stdout",
     "output_type": "stream",
     "text": [
      "yousuf\n",
      "6\n",
      "<class 'str'>\n",
      "2004753696496\n",
      "['__add__', '__class__', '__contains__', '__delattr__', '__dir__', '__doc__', '__eq__', '__format__', '__ge__', '__getattribute__', '__getitem__', '__getnewargs__', '__gt__', '__hash__', '__init__', '__init_subclass__', '__iter__', '__le__', '__len__', '__lt__', '__mod__', '__mul__', '__ne__', '__new__', '__reduce__', '__reduce_ex__', '__repr__', '__rmod__', '__rmul__', '__setattr__', '__sizeof__', '__str__', '__subclasshook__', 'capitalize', 'casefold', 'center', 'count', 'encode', 'endswith', 'expandtabs', 'find', 'format', 'format_map', 'index', 'isalnum', 'isalpha', 'isascii', 'isdecimal', 'isdigit', 'isidentifier', 'islower', 'isnumeric', 'isprintable', 'isspace', 'istitle', 'isupper', 'join', 'ljust', 'lower', 'lstrip', 'maketrans', 'partition', 'removeprefix', 'removesuffix', 'replace', 'rfind', 'rindex', 'rjust', 'rpartition', 'rsplit', 'rstrip', 'split', 'splitlines', 'startswith', 'strip', 'swapcase', 'title', 'translate', 'upper', 'zfill']\n"
     ]
    }
   ],
   "source": [
    "name = \"yousuf\"\n",
    "print(name)\n",
    "print(len(name)) #count len\n",
    "print(type(name)) # define type \n",
    "print(id(name)) #id in system\n",
    "print(dir(name)) #metheds and atributes\n"
   ]
  },
  {
   "cell_type": "code",
   "execution_count": 7,
   "id": "036b9c26",
   "metadata": {},
   "outputs": [
    {
     "name": "stdout",
     "output_type": "stream",
     "text": [
      "21\n",
      "2\n",
      "<class 'str'>\n",
      "2004753695920\n",
      "['__add__', '__class__', '__contains__', '__delattr__', '__dir__', '__doc__', '__eq__', '__format__', '__ge__', '__getattribute__', '__getitem__', '__getnewargs__', '__gt__', '__hash__', '__init__', '__init_subclass__', '__iter__', '__le__', '__len__', '__lt__', '__mod__', '__mul__', '__ne__', '__new__', '__reduce__', '__reduce_ex__', '__repr__', '__rmod__', '__rmul__', '__setattr__', '__sizeof__', '__str__', '__subclasshook__', 'capitalize', 'casefold', 'center', 'count', 'encode', 'endswith', 'expandtabs', 'find', 'format', 'format_map', 'index', 'isalnum', 'isalpha', 'isascii', 'isdecimal', 'isdigit', 'isidentifier', 'islower', 'isnumeric', 'isprintable', 'isspace', 'istitle', 'isupper', 'join', 'ljust', 'lower', 'lstrip', 'maketrans', 'partition', 'removeprefix', 'removesuffix', 'replace', 'rfind', 'rindex', 'rjust', 'rpartition', 'rsplit', 'rstrip', 'split', 'splitlines', 'startswith', 'strip', 'swapcase', 'title', 'translate', 'upper', 'zfill']\n"
     ]
    }
   ],
   "source": [
    "age = \"21\"\n",
    "print(age)\n",
    "print(len(age)) #count len\n",
    "print(type(age)) # define type \n",
    "print(id(age)) #id in system\n",
    "print(dir(age)) #metheds and atributes"
   ]
  },
  {
   "cell_type": "markdown",
   "id": "01c1b25e",
   "metadata": {},
   "source": [
    " # text formating\n",
    "    \n",
    "    "
   ]
  },
  {
   "cell_type": "code",
   "execution_count": 11,
   "id": "060d3495",
   "metadata": {},
   "outputs": [
    {
     "name": "stdout",
     "output_type": "stream",
     "text": [
      "mohummad\n"
     ]
    }
   ],
   "source": [
    "first_name = \"mohummad\"\n",
    "print(first_name)"
   ]
  },
  {
   "cell_type": "markdown",
   "id": "36375a5c",
   "metadata": {},
   "source": [
    "#rules for python variable"
   ]
  },
  {
   "cell_type": "markdown",
   "id": "cc31d69f",
   "metadata": {},
   "source": [
    "# rules of variables name in python"
   ]
  },
  {
   "cell_type": "markdown",
   "id": "ac78de61",
   "metadata": {},
   "source": [
    "Variable Names\n",
    "\n",
    "A variable can have a short name (like x and y) or a more descriptive name (age, carname, total_volume).\n",
    "\n",
    "Rules for Python variables:\n",
    "\n",
    "    A variable name must start with a letter or the underscore character\n",
    "    A variable name cannot start with a number\n",
    "    A variable name can only contain alpha-numeric characters and underscores (A-z, 0-9, and _ )\n",
    "    Variable names are case-sensitive (age, Age and AGE are three different variables)\n"
   ]
  },
  {
   "cell_type": "code",
   "execution_count": 13,
   "id": "3a42bd32",
   "metadata": {},
   "outputs": [
    {
     "name": "stdout",
     "output_type": "stream",
     "text": [
      "mohummad\n"
     ]
    }
   ],
   "source": [
    "first_name = \"mohummad\"\n",
    "print(first_name)"
   ]
  },
  {
   "cell_type": "code",
   "execution_count": 14,
   "id": "005d465e",
   "metadata": {},
   "outputs": [
    {
     "name": "stdout",
     "output_type": "stream",
     "text": [
      "8\n"
     ]
    }
   ],
   "source": [
    "a = len(\"mohummad\") #return function\n",
    "print(a)"
   ]
  },
  {
   "cell_type": "code",
   "execution_count": 15,
   "id": "78ff7d92",
   "metadata": {},
   "outputs": [
    {
     "name": "stdout",
     "output_type": "stream",
     "text": [
      "qasim\n",
      "None\n",
      "None\n",
      "None\n"
     ]
    }
   ],
   "source": [
    "a = print(\"qasim\") #non return function\n",
    "print(a)\n",
    "print(a)\n",
    "print(a)"
   ]
  },
  {
   "cell_type": "code",
   "execution_count": 16,
   "id": "adc8bef5",
   "metadata": {},
   "outputs": [
    {
     "name": "stdout",
     "output_type": "stream",
     "text": [
      "None\n"
     ]
    }
   ],
   "source": [
    "print(a)"
   ]
  },
  {
   "cell_type": "markdown",
   "id": "fdb87ae5",
   "metadata": {},
   "source": [
    "# concatination "
   ]
  },
  {
   "cell_type": "code",
   "execution_count": 35,
   "id": "99330790",
   "metadata": {},
   "outputs": [
    {
     "name": "stdout",
     "output_type": "stream",
     "text": [
      "institute Name:saylani\n",
      " student name :mohummadqasim\n",
      " age 30\n"
     ]
    }
   ],
   "source": [
    "first_name=\"mohummad\"\n",
    "last_name=\"qasim\"\n",
    "institute_name=\"saylani\"\n",
    "age = (\"30\")\n",
    "card = \"institute Name:\" + institute_name+ \"\\n student name :\" +first_name + last_name+ \"\\n age\"' ' + age\n",
    "print(card)"
   ]
  },
  {
   "cell_type": "markdown",
   "id": "3837980f",
   "metadata": {},
   "source": [
    "# concatination"
   ]
  },
  {
   "cell_type": "code",
   "execution_count": 37,
   "id": "2b72fc6c",
   "metadata": {},
   "outputs": [
    {
     "name": "stdout",
     "output_type": "stream",
     "text": [
      "21 <class 'type'>\n"
     ]
    }
   ],
   "source": [
    "age = 21\n",
    "print(age,(type))\n",
    "# type castion\n",
    "age = 21"
   ]
  },
  {
   "cell_type": "markdown",
   "id": "c41d1cc7",
   "metadata": {},
   "source": [
    "# formating"
   ]
  },
  {
   "cell_type": "code",
   "execution_count": 41,
   "id": "13e6d93f",
   "metadata": {},
   "outputs": [
    {
     "ename": "SyntaxError",
     "evalue": "invalid syntax (476465301.py, line 9)",
     "output_type": "error",
     "traceback": [
      "\u001b[1;36m  File \u001b[1;32m\"C:\\Users\\Yousuf\\AppData\\Local\\Temp\\ipykernel_11680\\476465301.py\"\u001b[1;36m, line \u001b[1;32m9\u001b[0m\n\u001b[1;33m    .formating (institute_name,first_name,last_name,age)\u001b[0m\n\u001b[1;37m    ^\u001b[0m\n\u001b[1;31mSyntaxError\u001b[0m\u001b[1;31m:\u001b[0m invalid syntax\n"
     ]
    }
   ],
   "source": [
    "first_name=\"mohummad\"\n",
    "last_name=\"qasim\"\n",
    "institute_name=\"saylani\"\n",
    "age = (\"30\")\n",
    "\n",
    "card = \"\"\"institute name :{}\n",
    "student full name : {} {}\n",
    "age : {}\"\"\"\n",
    ".formating (institute_name,first_name,last_name,age)\n",
    "    print(card)"
   ]
  },
  {
   "cell_type": "markdown",
   "id": "a8cc1f83",
   "metadata": {},
   "source": [
    "# conacatination\n",
    "* +\n",
    "* variable name format"
   ]
  },
  {
   "cell_type": "code",
   "execution_count": 50,
   "id": "e168b29c",
   "metadata": {},
   "outputs": [
    {
     "name": "stdout",
     "output_type": "stream",
     "text": [
      "institute name: saylani\n",
      "      student full name: mohummad qasim\n",
      "      age: 30\n"
     ]
    }
   ],
   "source": [
    "first_name=\"mohummad\"\n",
    "last_name=\"qasim\"\n",
    "institute_name=\"saylani\"\n",
    "age = 30\n",
    "\n",
    "card = f\"\"\"institute name: {institute_name}\n",
    "      student full name: {first_name} {last_name}\n",
    "      age: {age}\"\"\"\n",
    "\n",
    "print(card)"
   ]
  },
  {
   "cell_type": "code",
   "execution_count": 46,
   "id": "b5d2288f",
   "metadata": {},
   "outputs": [
    {
     "name": "stdout",
     "output_type": "stream",
     "text": [
      "institute name: saylani\n",
      "      student full name: mohammad qasim\n",
      "      age: 30\n"
     ]
    }
   ],
   "source": [
    "first_name = \"mohammad\"\n",
    "last_name = \"qasim\"\n",
    "institute_name = \"saylani\"\n",
    "age = 30\n",
    "\n",
    "card = f\"\"\"institute name: {institute_name}\n",
    "      student full name: {first_name} {last_name}\n",
    "      age: {age}\"\"\"\n",
    "\n",
    "print(card)"
   ]
  },
  {
   "cell_type": "code",
   "execution_count": 56,
   "id": "b828ddc6",
   "metadata": {},
   "outputs": [
    {
     "name": "stdout",
     "output_type": "stream",
     "text": [
      "institute name: saylani\n",
      "student full name: mohummad qasim\n",
      "age: 30\n",
      "      \n"
     ]
    }
   ],
   "source": [
    "card = \"\"\"institute name: %s\n",
    "student full name: %s %s\n",
    "age: %d\n",
    "      \"\"\" % (institute_name, first_name, last_name, age )\n",
    "print(card)\n"
   ]
  },
  {
   "cell_type": "code",
   "execution_count": 55,
   "id": "e18a6803",
   "metadata": {},
   "outputs": [
    {
     "name": "stdout",
     "output_type": "stream",
     "text": [
      "institute name: saylani\n",
      "student full name: mohummad qasim\n",
      "age: 30\n",
      "      \n"
     ]
    }
   ],
   "source": [
    "card = \"\"\"institute name: %s\n",
    "student full name: %s %s\n",
    "'age: %d\n",
    "      \"\"\" % (institute_name, first_name, last_name, age)\n",
    "print(card)"
   ]
  },
  {
   "cell_type": "code",
   "execution_count": 60,
   "id": "d00946fb",
   "metadata": {},
   "outputs": [
    {
     "name": "stdout",
     "output_type": "stream",
     "text": [
      "0 institute\n",
      "1 name:\n",
      "2 saylani\n",
      "3 student\n",
      "4 full\n",
      "5 name:\n",
      "6 mohummad\n",
      "7 qasim\n",
      "8 age:\n",
      "9 30\n"
     ]
    }
   ],
   "source": [
    "for idx, i in enumerate([i for i in card.split() if \"_\" not in i]):\n",
    "    print(idx,i)"
   ]
  },
  {
   "cell_type": "code",
   "execution_count": 59,
   "id": "462b8f2d",
   "metadata": {},
   "outputs": [
    {
     "name": "stdout",
     "output_type": "stream",
     "text": [
      "0 institute\n",
      "1 name:\n",
      "2 saylani\n",
      "3 student\n",
      "4 full\n",
      "5 name:\n",
      "6 mohummad\n",
      "7 qasim\n",
      "8 age:\n",
      "9 30\n"
     ]
    }
   ],
   "source": [
    "for idx, i in enumerate([i for i in card.split() if \"_\" not in i]):\n",
    "    print(idx, i)"
   ]
  },
  {
   "cell_type": "code",
   "execution_count": 64,
   "id": "811011e2",
   "metadata": {},
   "outputs": [
    {
     "name": "stdout",
     "output_type": "stream",
     "text": [
      "institute name: saylani\n",
      "student full name: mohummad qasim\n",
      "age: 30\n",
      "      \n"
     ]
    },
    {
     "ename": "TypeError",
     "evalue": "str.capitalize() takes no arguments (1 given)",
     "output_type": "error",
     "traceback": [
      "\u001b[1;31m---------------------------------------------------------------------------\u001b[0m",
      "\u001b[1;31mTypeError\u001b[0m                                 Traceback (most recent call last)",
      "\u001b[1;32m~\\AppData\\Local\\Temp\\ipykernel_11680\\736958077.py\u001b[0m in \u001b[0;36m<module>\u001b[1;34m\u001b[0m\n\u001b[0;32m      1\u001b[0m \u001b[0mprint\u001b[0m\u001b[1;33m(\u001b[0m\u001b[0mcard\u001b[0m\u001b[1;33m)\u001b[0m\u001b[1;33m\u001b[0m\u001b[1;33m\u001b[0m\u001b[0m\n\u001b[1;32m----> 2\u001b[1;33m \u001b[0mcard\u001b[0m\u001b[1;33m.\u001b[0m\u001b[0mcapitalize\u001b[0m\u001b[1;33m(\u001b[0m\u001b[1;34m\"am\"\u001b[0m\u001b[1;33m)\u001b[0m\u001b[1;33m\u001b[0m\u001b[1;33m\u001b[0m\u001b[0m\n\u001b[0m",
      "\u001b[1;31mTypeError\u001b[0m: str.capitalize() takes no arguments (1 given)"
     ]
    }
   ],
   "source": [
    "print(card)\n",
    "card.capitalize(\"am\")"
   ]
  },
  {
   "cell_type": "code",
   "execution_count": 65,
   "id": "6ba41a21",
   "metadata": {},
   "outputs": [
    {
     "data": {
      "text/plain": [
       "97"
      ]
     },
     "execution_count": 65,
     "metadata": {},
     "output_type": "execute_result"
    }
   ],
   "source": [
    "\n",
    "\n"
   ]
  },
  {
   "cell_type": "code",
   "execution_count": 66,
   "id": "86fb384c",
   "metadata": {},
   "outputs": [
    {
     "name": "stdout",
     "output_type": "stream",
     "text": [
      "b'My name is St\\\\xe5le'\n",
      "b'My name is Stle'\n",
      "b'My name is St\\\\N{LATIN SMALL LETTER A WITH RING ABOVE}le'\n",
      "b'My name is St?le'\n",
      "b'My name is St&#229;le'\n"
     ]
    }
   ],
   "source": [
    "txt = \"My name is Ståle\"\n",
    "\n",
    "print(txt.encode(encoding=\"ascii\",errors=\"backslashreplace\"))\n",
    "print(txt.encode(encoding=\"ascii\",errors=\"ignore\"))\n",
    "print(txt.encode(encoding=\"ascii\",errors=\"namereplace\"))\n",
    "print(txt.encode(encoding=\"ascii\",errors=\"replace\"))\n",
    "print(txt.encode(encoding=\"ascii\",errors=\"xmlcharrefreplace\"))\n"
   ]
  },
  {
   "cell_type": "code",
   "execution_count": null,
   "id": "ea5889b8",
   "metadata": {},
   "outputs": [],
   "source": []
  }
 ],
 "metadata": {
  "kernelspec": {
   "display_name": "Python 3 (ipykernel)",
   "language": "python",
   "name": "python3"
  },
  "language_info": {
   "codemirror_mode": {
    "name": "ipython",
    "version": 3
   },
   "file_extension": ".py",
   "mimetype": "text/x-python",
   "name": "python",
   "nbconvert_exporter": "python",
   "pygments_lexer": "ipython3",
   "version": "3.9.13"
  }
 },
 "nbformat": 4,
 "nbformat_minor": 5
}
