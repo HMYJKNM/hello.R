{
 "cells": [
  {
   "cell_type": "code",
   "execution_count": 2,
   "id": "0b162fcc",
   "metadata": {},
   "outputs": [
    {
     "data": {
      "text/plain": [
       "{'name': 'yousuf',\n",
       " 'fathername': 'saud',\n",
       " 'cinic': 9391891923,\n",
       " 'rollno': 11,\n",
       " 'signature': 'abc'}"
      ]
     },
     "execution_count": 2,
     "metadata": {},
     "output_type": "execute_result"
    }
   ],
   "source": [
    " date = {\n",
    "    \"name\" : \"yousuf\",\n",
    "    \"fathername\" : \"saud\",\n",
    "    \"cinic\" : 9391891923,\n",
    "    \"rollno\" : 11,\n",
    "    \"signature\" : \"abc\" \n",
    "}\n",
    "date"
   ]
  },
  {
   "cell_type": "code",
   "execution_count": 5,
   "id": "d72cb928",
   "metadata": {},
   "outputs": [
    {
     "data": {
      "text/plain": [
       "'abc'"
      ]
     },
     "execution_count": 5,
     "metadata": {},
     "output_type": "execute_result"
    }
   ],
   "source": [
    "date[\"name\"]\n",
    "date[\"fathername\"]\n",
    "date[\"cinic\"]\n",
    "date[\"rollno\"]\n",
    "date[\"signature\"]"
   ]
  },
  {
   "cell_type": "code",
   "execution_count": 6,
   "id": "3f6d3340",
   "metadata": {},
   "outputs": [
    {
     "data": {
      "text/plain": [
       "['__class__',\n",
       " '__class_getitem__',\n",
       " '__contains__',\n",
       " '__delattr__',\n",
       " '__delitem__',\n",
       " '__dir__',\n",
       " '__doc__',\n",
       " '__eq__',\n",
       " '__format__',\n",
       " '__ge__',\n",
       " '__getattribute__',\n",
       " '__getitem__',\n",
       " '__gt__',\n",
       " '__hash__',\n",
       " '__init__',\n",
       " '__init_subclass__',\n",
       " '__ior__',\n",
       " '__iter__',\n",
       " '__le__',\n",
       " '__len__',\n",
       " '__lt__',\n",
       " '__ne__',\n",
       " '__new__',\n",
       " '__or__',\n",
       " '__reduce__',\n",
       " '__reduce_ex__',\n",
       " '__repr__',\n",
       " '__reversed__',\n",
       " '__ror__',\n",
       " '__setattr__',\n",
       " '__setitem__',\n",
       " '__sizeof__',\n",
       " '__str__',\n",
       " '__subclasshook__',\n",
       " 'clear',\n",
       " 'copy',\n",
       " 'fromkeys',\n",
       " 'get',\n",
       " 'items',\n",
       " 'keys',\n",
       " 'pop',\n",
       " 'popitem',\n",
       " 'setdefault',\n",
       " 'update',\n",
       " 'values']"
      ]
     },
     "execution_count": 6,
     "metadata": {},
     "output_type": "execute_result"
    }
   ],
   "source": [
    "dir(dict)"
   ]
  },
  {
   "cell_type": "code",
   "execution_count": 7,
   "id": "87b72e9e",
   "metadata": {},
   "outputs": [
    {
     "data": {
      "text/plain": [
       "'abc'"
      ]
     },
     "execution_count": 7,
     "metadata": {},
     "output_type": "execute_result"
    }
   ],
   "source": [
    " date = {\n",
    "    \"name\" : \"yousuf\",\n",
    "    \"fathername\" : \"saud\",\n",
    "    \"cinic\" : 9391891923,\n",
    "    \"rollno\" : 11,\n",
    "    100 : \"abc\" \n",
    "}\n",
    "date[100]"
   ]
  },
  {
   "cell_type": "code",
   "execution_count": 16,
   "id": "e1fbe836",
   "metadata": {},
   "outputs": [
    {
     "data": {
      "text/plain": [
       "['1', '2', 'abc']"
      ]
     },
     "execution_count": 16,
     "metadata": {},
     "output_type": "execute_result"
    }
   ],
   "source": [
    " date = {\n",
    "    \"name\" : \"M.hashir\",\n",
    "    \"fathername\" : \"Ahmed\",\n",
    "    \"cinic\" : \"9391891923\",\n",
    "    \"rollno\" : 11,\n",
    "    \"signature\" : \"abc\",\n",
    "     100 : ['1','2','abc']\n",
    "}\n",
    "date[100]"
   ]
  },
  {
   "cell_type": "code",
   "execution_count": 17,
   "id": "c7c8796f",
   "metadata": {},
   "outputs": [
    {
     "data": {
      "text/plain": [
       "['__add__',\n",
       " '__class__',\n",
       " '__class_getitem__',\n",
       " '__contains__',\n",
       " '__delattr__',\n",
       " '__dir__',\n",
       " '__doc__',\n",
       " '__eq__',\n",
       " '__format__',\n",
       " '__ge__',\n",
       " '__getattribute__',\n",
       " '__getitem__',\n",
       " '__getnewargs__',\n",
       " '__gt__',\n",
       " '__hash__',\n",
       " '__init__',\n",
       " '__init_subclass__',\n",
       " '__iter__',\n",
       " '__le__',\n",
       " '__len__',\n",
       " '__lt__',\n",
       " '__mul__',\n",
       " '__ne__',\n",
       " '__new__',\n",
       " '__reduce__',\n",
       " '__reduce_ex__',\n",
       " '__repr__',\n",
       " '__rmul__',\n",
       " '__setattr__',\n",
       " '__sizeof__',\n",
       " '__str__',\n",
       " '__subclasshook__',\n",
       " 'count',\n",
       " 'index']"
      ]
     },
     "execution_count": 17,
     "metadata": {},
     "output_type": "execute_result"
    }
   ],
   "source": [
    "dir(tuple)"
   ]
  },
  {
   "cell_type": "markdown",
   "id": "9befdd20",
   "metadata": {},
   "source": [
    "# tuple not fully immutible"
   ]
  },
  {
   "cell_type": "code",
   "execution_count": 21,
   "id": "a2029d10",
   "metadata": {},
   "outputs": [
    {
     "data": {
      "text/plain": [
       "('a', 'b', 'c', [100, 2, 3, 8])"
      ]
     },
     "execution_count": 21,
     "metadata": {},
     "output_type": "execute_result"
    }
   ],
   "source": [
    "a = ('a','b','c',[1,2,3])\n",
    "a[3].append(8)\n",
    "a[3][0] = 100\n",
    "a"
   ]
  },
  {
   "cell_type": "markdown",
   "id": "b6792681",
   "metadata": {},
   "source": [
    "# creat a ne dictionary"
   ]
  },
  {
   "cell_type": "code",
   "execution_count": 22,
   "id": "92536e13",
   "metadata": {},
   "outputs": [
    {
     "name": "stdout",
     "output_type": "stream",
     "text": [
      "{} <class 'dict'>\n"
     ]
    }
   ],
   "source": [
    "data = {} #creat a ne dictionary\n",
    "print(data,type(data))"
   ]
  },
  {
   "cell_type": "code",
   "execution_count": 26,
   "id": "fd208469",
   "metadata": {},
   "outputs": [
    {
     "name": "stdout",
     "output_type": "stream",
     "text": [
      "{'name': 'mohummad', 'fathername': 'aslam'} <class 'dict'>\n"
     ]
    }
   ],
   "source": [
    "data = {} #creat a ne dictionary\n",
    "data ['name'] ='mohummad'\n",
    "data['fathername']='aslam'\n",
    "\n",
    "print(data,type(data))"
   ]
  },
  {
   "cell_type": "code",
   "execution_count": 29,
   "id": "973ed67a",
   "metadata": {},
   "outputs": [
    {
     "data": {
      "text/plain": [
       "5472000"
      ]
     },
     "execution_count": 29,
     "metadata": {},
     "output_type": "execute_result"
    }
   ],
   "source": [
    "200 * 60 *19*24"
   ]
  },
  {
   "cell_type": "code",
   "execution_count": 33,
   "id": "c8a493cf",
   "metadata": {},
   "outputs": [
    {
     "name": "stdout",
     "output_type": "stream",
     "text": [
      "mohummad\n",
      "None\n",
      "not avalible\n"
     ]
    }
   ],
   "source": [
    "data = {} #creat a ne dictionary\n",
    "data ['name'] ='mohummad'\n",
    "data['fathername']='aslam'\n",
    "\n",
    "print(data.get('name'))\n",
    "print(data.get('number'))\n",
    "print(data.get('number','not avalible'))"
   ]
  },
  {
   "cell_type": "code",
   "execution_count": 35,
   "id": "9f032eca",
   "metadata": {},
   "outputs": [
    {
     "data": {
      "text/plain": [
       "{'name': None, 'id': None, 'FATHERNAME': None, 'CNIC': None}"
      ]
     },
     "execution_count": 35,
     "metadata": {},
     "output_type": "execute_result"
    }
   ],
   "source": [
    "dict.fromkeys(['name','id','FATHERNAME','CNIC'])"
   ]
  },
  {
   "cell_type": "code",
   "execution_count": 36,
   "id": "0d3901ac",
   "metadata": {},
   "outputs": [
    {
     "data": {
      "text/plain": [
       "dict_keys(['name', 'fathername', 'cinic', 'rollno', 'signature'])"
      ]
     },
     "execution_count": 36,
     "metadata": {},
     "output_type": "execute_result"
    }
   ],
   "source": [
    " date = {\n",
    "    \"name\" : \"yousuf\",\n",
    "    \"fathername\" : \"saud\",\n",
    "    \"cinic\" : 9391891923,\n",
    "    \"rollno\" : 11,\n",
    "    \"signature\" : \"abc\" \n",
    "}\n",
    "date."
   ]
  },
  {
   "cell_type": "code",
   "execution_count": 37,
   "id": "001e1248",
   "metadata": {},
   "outputs": [
    {
     "name": "stdout",
     "output_type": "stream",
     "text": [
      "AA\n",
      "BB\n"
     ]
    }
   ],
   "source": [
    "A,B = ('AA','BB')\n",
    "print(A)\n",
    "print(B)"
   ]
  },
  {
   "cell_type": "code",
   "execution_count": 43,
   "id": "1adf8afd",
   "metadata": {},
   "outputs": [
    {
     "name": "stdout",
     "output_type": "stream",
     "text": [
      "name mohummad\n",
      "fathername aslam\n"
     ]
    }
   ],
   "source": [
    "for k in data.keys():\n",
    "    print(k, (data[k]))"
   ]
  },
  {
   "cell_type": "code",
   "execution_count": 44,
   "id": "122a8666",
   "metadata": {},
   "outputs": [
    {
     "name": "stdout",
     "output_type": "stream",
     "text": [
      "name mohummad\n",
      "fathername aslam\n"
     ]
    }
   ],
   "source": [
    "for k ,v in data.items():\n",
    "    print(k, v)"
   ]
  },
  {
   "cell_type": "code",
   "execution_count": 46,
   "id": "e73ebe9c",
   "metadata": {},
   "outputs": [
    {
     "data": {
      "text/plain": [
       "{'a': 3, 'b': 2, 'c': 1}"
      ]
     },
     "execution_count": 46,
     "metadata": {},
     "output_type": "execute_result"
    }
   ],
   "source": [
    "date = {\n",
    "    'a':3,\n",
    "    \"b\":2,\n",
    "    \"c\":1\n",
    "}\n",
    "date"
   ]
  },
  {
   "cell_type": "code",
   "execution_count": 50,
   "id": "62a2261a",
   "metadata": {},
   "outputs": [
    {
     "ename": "IndentationError",
     "evalue": "expected an indented block (652652641.py, line 2)",
     "output_type": "error",
     "traceback": [
      "\u001b[1;36m  File \u001b[1;32m\"C:\\Users\\Yousuf\\AppData\\Local\\Temp\\ipykernel_12480\\652652641.py\"\u001b[1;36m, line \u001b[1;32m2\u001b[0m\n\u001b[1;33m    print(d)\u001b[0m\n\u001b[1;37m    ^\u001b[0m\n\u001b[1;31mIndentationError\u001b[0m\u001b[1;31m:\u001b[0m expected an indented block\n"
     ]
    }
   ],
   "source": [
    "for d in data():\n",
    "print(d)"
   ]
  },
  {
   "cell_type": "code",
   "execution_count": null,
   "id": "a712db20",
   "metadata": {},
   "outputs": [],
   "source": []
  }
 ],
 "metadata": {
  "kernelspec": {
   "display_name": "Python 3 (ipykernel)",
   "language": "python",
   "name": "python3"
  },
  "language_info": {
   "codemirror_mode": {
    "name": "ipython",
    "version": 3
   },
   "file_extension": ".py",
   "mimetype": "text/x-python",
   "name": "python",
   "nbconvert_exporter": "python",
   "pygments_lexer": "ipython3",
   "version": "3.9.13"
  }
 },
 "nbformat": 4,
 "nbformat_minor": 5
}
